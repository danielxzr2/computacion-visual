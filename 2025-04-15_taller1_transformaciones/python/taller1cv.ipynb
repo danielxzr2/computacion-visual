{
  "cells": [
    {
      "cell_type": "code",
      "execution_count": 1,
      "metadata": {
        "id": "382PA2IDLnHo"
      },
      "outputs": [],
      "source": [
        "import numpy as np\n",
        "import matplotlib.pyplot as plt\n",
        "import imageio.v2 as imageio\n",
        "import os"
      ]
    },
    {
      "cell_type": "code",
      "execution_count": 2,
      "metadata": {
        "id": "M4rxDKydLyu0"
      },
      "outputs": [],
      "source": [
        "# Crea una carpeta temporal para los frames\n",
        "output_folder = \"frames\"\n",
        "os.makedirs(output_folder, exist_ok=True)"
      ]
    },
    {
      "cell_type": "code",
      "execution_count": 3,
      "metadata": {
        "id": "cilDQFatL02b"
      },
      "outputs": [],
      "source": [
        "# Figura\n",
        "square = np.array([\n",
        "    [-1, 1, 1, -1, -1],  # X\n",
        "    [-1, -1, 1, 1, -1]   # Y\n",
        "])\n"
      ]
    },
    {
      "cell_type": "code",
      "execution_count": 4,
      "metadata": {
        "id": "0gmQO0msL3KM"
      },
      "outputs": [],
      "source": [
        "#Genera una matriz de transformación homogenea 3x3\n",
        "def transform_matrix(scale=1.0, angle_deg=0.0, tx=0.0, ty=0.0):\n",
        "    angle_rad = np.radians(angle_deg)\n",
        "    cos_a, sin_a = np.cos(angle_rad), np.sin(angle_rad)\n",
        "    S = np.array([\n",
        "        [scale,     0,    0],\n",
        "        [0,     scale,    0],\n",
        "        [0,         0,    1]\n",
        "    ])\n",
        "    R = np.array([\n",
        "        [cos_a, -sin_a, 0],\n",
        "        [sin_a,  cos_a, 0],\n",
        "        [0,      0,     1]\n",
        "    ])\n",
        "    T = np.array([\n",
        "        [1, 0, tx],\n",
        "        [0, 1, ty],\n",
        "        [0, 0, 1]\n",
        "    ])\n",
        "    return T @ R @ S\n",
        "    # Primero escala, luego rota, luego traslada"
      ]
    },
    {
      "cell_type": "code",
      "execution_count": 5,
      "metadata": {
        "id": "uyAK7LrWL52j"
      },
      "outputs": [],
      "source": [
        "square_hom = np.vstack((square, np.ones(square.shape[1])))\n",
        "\n",
        "# Parámetros de animación\n",
        "frames = 60\n",
        "images = []"
      ]
    },
    {
      "cell_type": "code",
      "execution_count": 6,
      "metadata": {
        "id": "CPCfFCqDL8Ir"
      },
      "outputs": [],
      "source": [
        "for t in range(frames):\n",
        "    progress = t / frames\n",
        "    scale = 1 + 0.5 * np.sin(2 * np.pi * progress)\n",
        "    angle = 360 * progress\n",
        "    tx = 2 * np.cos(2 * np.pi * progress)\n",
        "    ty = 2 * np.sin(2 * np.pi * progress)\n",
        "\n",
        "    M = transform_matrix(scale=scale, angle_deg=angle, tx=tx, ty=ty)\n",
        "    transformed = M @ square_hom\n",
        "\n",
        "    # Grafica\n",
        "    plt.figure(figsize=(5, 5))\n",
        "    plt.plot(transformed[0, :], transformed[1, :], 'b-', linewidth=2)\n",
        "    plt.xlim(-4, 4)\n",
        "    plt.ylim(-4, 4)\n",
        "    plt.gca().set_aspect('equal')\n",
        "    plt.grid(True)\n",
        "    plt.title(f'Frame {t+1}\\nEscala={scale:.2f}, Ángulo={angle:.1f}°, Tx={tx:.2f}, Ty={ty:.2f}')\n",
        "    plt.xlabel(\"X\")\n",
        "    plt.ylabel(\"Y\")\n",
        "\n",
        "    # Guardar el frame\n",
        "    filename = f\"{output_folder}/frame_{t:03d}.png\"\n",
        "    plt.savefig(filename)\n",
        "    plt.close()\n",
        "    images.append(imageio.imread(filename))"
      ]
    },
    {
      "cell_type": "code",
      "execution_count": 7,
      "metadata": {
        "id": "32ho3lORL90E"
      },
      "outputs": [],
      "source": [
        "# Guardar el GIF\n",
        "imageio.mimsave(\"animacion_transformaciones.gif\", images, fps=20)"
      ]
    }
  ],
  "metadata": {
    "colab": {
      "provenance": []
    },
    "kernelspec": {
      "display_name": "Python 3",
      "name": "python3"
    },
    "language_info": {
      "codemirror_mode": {
        "name": "ipython",
        "version": 3
      },
      "file_extension": ".py",
      "mimetype": "text/x-python",
      "name": "python",
      "nbconvert_exporter": "python",
      "pygments_lexer": "ipython3",
      "version": "3.13.2"
    }
  },
  "nbformat": 4,
  "nbformat_minor": 0
}
